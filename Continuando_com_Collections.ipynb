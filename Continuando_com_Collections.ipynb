{
  "nbformat": 4,
  "nbformat_minor": 0,
  "metadata": {
    "colab": {
      "name": "Continuando com Collections.ipynb",
      "provenance": []
    },
    "kernelspec": {
      "name": "python3",
      "display_name": "Python 3"
    }
  },
  "cells": [
    {
      "cell_type": "markdown",
      "metadata": {
        "id": "8b6zR9T35NLd"
      },
      "source": [
        "# Aula 01"
      ]
    },
    {
      "cell_type": "code",
      "metadata": {
        "id": "fiiV05FK5SpC"
      },
      "source": [
        "usuarios_data_science = [15, 23, 43, 56]\n",
        "usuarios_machine_learning = [13, 23, 56, 42]"
      ],
      "execution_count": 1,
      "outputs": []
    },
    {
      "cell_type": "code",
      "metadata": {
        "colab": {
          "base_uri": "https://localhost:8080/"
        },
        "id": "MgX2tED1590e",
        "outputId": "ebd6e326-17a3-43dc-ab75-1336fad58fc2"
      },
      "source": [
        "assistiram = usuarios_data_science.copy()\n",
        "assistiram.extend(usuarios_machine_learning)\n",
        "assistiram"
      ],
      "execution_count": 4,
      "outputs": [
        {
          "output_type": "execute_result",
          "data": {
            "text/plain": [
              "[15, 23, 43, 56, 13, 23, 56, 42]"
            ]
          },
          "metadata": {
            "tags": []
          },
          "execution_count": 4
        }
      ]
    },
    {
      "cell_type": "code",
      "metadata": {
        "colab": {
          "base_uri": "https://localhost:8080/"
        },
        "id": "byj_z-hM5-Ul",
        "outputId": "37f7ee23-5939-4593-885f-6e5241e5ad2d"
      },
      "source": [
        "len(assistiram)"
      ],
      "execution_count": 5,
      "outputs": [
        {
          "output_type": "execute_result",
          "data": {
            "text/plain": [
              "8"
            ]
          },
          "metadata": {
            "tags": []
          },
          "execution_count": 5
        }
      ]
    },
    {
      "cell_type": "code",
      "metadata": {
        "colab": {
          "base_uri": "https://localhost:8080/"
        },
        "id": "VPrCTTts5-v5",
        "outputId": "a48c8387-5913-486f-e151-5a782fe4337a"
      },
      "source": [
        "set(assistiram)"
      ],
      "execution_count": 6,
      "outputs": [
        {
          "output_type": "execute_result",
          "data": {
            "text/plain": [
              "{13, 15, 23, 42, 43, 56}"
            ]
          },
          "metadata": {
            "tags": []
          },
          "execution_count": 6
        }
      ]
    },
    {
      "cell_type": "code",
      "metadata": {
        "colab": {
          "base_uri": "https://localhost:8080/"
        },
        "id": "p3bAREP767vB",
        "outputId": "1dd54c87-6c1e-4a0a-b71a-d0c909e11e93"
      },
      "source": [
        "set([1, 2, 3, 1])"
      ],
      "execution_count": 7,
      "outputs": [
        {
          "output_type": "execute_result",
          "data": {
            "text/plain": [
              "{1, 2, 3}"
            ]
          },
          "metadata": {
            "tags": []
          },
          "execution_count": 7
        }
      ]
    },
    {
      "cell_type": "code",
      "metadata": {
        "colab": {
          "base_uri": "https://localhost:8080/"
        },
        "id": "w0lM6BAy68IE",
        "outputId": "48061f4e-8fb2-416b-8228-47d007e78b9d"
      },
      "source": [
        "{1, 2, 3, 1}"
      ],
      "execution_count": 8,
      "outputs": [
        {
          "output_type": "execute_result",
          "data": {
            "text/plain": [
              "{1, 2, 3}"
            ]
          },
          "metadata": {
            "tags": []
          },
          "execution_count": 8
        }
      ]
    },
    {
      "cell_type": "code",
      "metadata": {
        "colab": {
          "base_uri": "https://localhost:8080/"
        },
        "id": "x3IJio3j68cc",
        "outputId": "7e66cb3f-809b-41b1-fb94-eba9ff6dce95"
      },
      "source": [
        "type({1, 1, 2})"
      ],
      "execution_count": 9,
      "outputs": [
        {
          "output_type": "execute_result",
          "data": {
            "text/plain": [
              "set"
            ]
          },
          "metadata": {
            "tags": []
          },
          "execution_count": 9
        }
      ]
    },
    {
      "cell_type": "code",
      "metadata": {
        "id": "EPEkczTP7TPg"
      },
      "source": [
        "usuarios_data_science = {15, 23, 43, 56}\n",
        "usuarios_machine_learning = {13, 23, 56, 42}"
      ],
      "execution_count": 10,
      "outputs": []
    },
    {
      "cell_type": "code",
      "metadata": {
        "colab": {
          "base_uri": "https://localhost:8080/"
        },
        "id": "MXABlawH7ThD",
        "outputId": "c401572b-5312-4381-f7ab-1fe909207be1"
      },
      "source": [
        "for usuario in assistiram:\n",
        "  print(usuario)"
      ],
      "execution_count": 12,
      "outputs": [
        {
          "output_type": "stream",
          "text": [
            "15\n",
            "23\n",
            "43\n",
            "56\n",
            "13\n",
            "23\n",
            "56\n",
            "42\n"
          ],
          "name": "stdout"
        }
      ]
    },
    {
      "cell_type": "code",
      "metadata": {
        "id": "mj2m2IFP7TwH"
      },
      "source": [
        "usuarios_data_science = {15, 23, 43, 56}\n",
        "usuarios_machine_learning = {13, 23, 56, 42}"
      ],
      "execution_count": 13,
      "outputs": []
    },
    {
      "cell_type": "code",
      "metadata": {
        "colab": {
          "base_uri": "https://localhost:8080/"
        },
        "id": "fIMlTsWJ8M7i",
        "outputId": "64de607e-296c-474c-bc51-74019099a57e"
      },
      "source": [
        "usuarios_data_science | usuarios_machine_learning # união de dois conjuntos"
      ],
      "execution_count": 15,
      "outputs": [
        {
          "output_type": "execute_result",
          "data": {
            "text/plain": [
              "{13, 15, 23, 42, 43, 56}"
            ]
          },
          "metadata": {
            "tags": []
          },
          "execution_count": 15
        }
      ]
    },
    {
      "cell_type": "code",
      "metadata": {
        "colab": {
          "base_uri": "https://localhost:8080/"
        },
        "id": "sukhsilQ8Wyr",
        "outputId": "bf0d85b6-14c5-4352-ea78-16b00377b7b2"
      },
      "source": [
        "usuarios_data_science & usuarios_machine_learning # elementos que aparecem nos dois conjuntos"
      ],
      "execution_count": 17,
      "outputs": [
        {
          "output_type": "execute_result",
          "data": {
            "text/plain": [
              "{23, 56}"
            ]
          },
          "metadata": {
            "tags": []
          },
          "execution_count": 17
        }
      ]
    },
    {
      "cell_type": "code",
      "metadata": {
        "colab": {
          "base_uri": "https://localhost:8080/"
        },
        "id": "HYzuSwEI9MuM",
        "outputId": "d025ada9-10d4-46e7-a1da-639f686dbf89"
      },
      "source": [
        "usuarios_data_science - usuarios_machine_learning"
      ],
      "execution_count": 18,
      "outputs": [
        {
          "output_type": "execute_result",
          "data": {
            "text/plain": [
              "{15, 43}"
            ]
          },
          "metadata": {
            "tags": []
          },
          "execution_count": 18
        }
      ]
    },
    {
      "cell_type": "code",
      "metadata": {
        "colab": {
          "base_uri": "https://localhost:8080/"
        },
        "id": "Pwf71f8q9psZ",
        "outputId": "35175f2b-221c-4f23-bc3d-67b8ca534508"
      },
      "source": [
        "fez_ds_mas_nao_fez_ml = usuarios_data_science - usuarios_machine_learning\n",
        "15 in fez_ds_mas_nao_fez_ml"
      ],
      "execution_count": 19,
      "outputs": [
        {
          "output_type": "execute_result",
          "data": {
            "text/plain": [
              "True"
            ]
          },
          "metadata": {
            "tags": []
          },
          "execution_count": 19
        }
      ]
    },
    {
      "cell_type": "code",
      "metadata": {
        "colab": {
          "base_uri": "https://localhost:8080/"
        },
        "id": "JfLmnKkv9-yB",
        "outputId": "d6a112c8-89fb-4b75-ed27-c5bec40049b3"
      },
      "source": [
        "23 in fez_ds_mas_nao_fez_ml"
      ],
      "execution_count": 20,
      "outputs": [
        {
          "output_type": "execute_result",
          "data": {
            "text/plain": [
              "False"
            ]
          },
          "metadata": {
            "tags": []
          },
          "execution_count": 20
        }
      ]
    },
    {
      "cell_type": "code",
      "metadata": {
        "colab": {
          "base_uri": "https://localhost:8080/"
        },
        "id": "graL7pB19qH5",
        "outputId": "5d69a197-1d04-4c04-a269-d7b986b69690"
      },
      "source": [
        "usuarios_data_science ^ usuarios_machine_learning # or exclusivo"
      ],
      "execution_count": 21,
      "outputs": [
        {
          "output_type": "execute_result",
          "data": {
            "text/plain": [
              "{13, 15, 42, 43}"
            ]
          },
          "metadata": {
            "tags": []
          },
          "execution_count": 21
        }
      ]
    },
    {
      "cell_type": "markdown",
      "metadata": {
        "id": "c7jP07x35Tr_"
      },
      "source": [
        "# Aula 02"
      ]
    },
    {
      "cell_type": "code",
      "metadata": {
        "colab": {
          "base_uri": "https://localhost:8080/"
        },
        "id": "v15PYenO5WR2",
        "outputId": "3b70c053-6ac1-429f-b955-264cb05ac7e2"
      },
      "source": [
        "usuarios = {1, 5, 76, 34, 52, 13, 17}\n",
        "len(usuarios)"
      ],
      "execution_count": 22,
      "outputs": [
        {
          "output_type": "execute_result",
          "data": {
            "text/plain": [
              "7"
            ]
          },
          "metadata": {
            "tags": []
          },
          "execution_count": 22
        }
      ]
    },
    {
      "cell_type": "code",
      "metadata": {
        "colab": {
          "base_uri": "https://localhost:8080/"
        },
        "id": "JsZdbgxJ-toQ",
        "outputId": "14b9feb1-0d4c-4ae9-bb1e-b81b03c80ee5"
      },
      "source": [
        "usuarios.add(13)\n",
        "usuarios"
      ],
      "execution_count": 24,
      "outputs": [
        {
          "output_type": "execute_result",
          "data": {
            "text/plain": [
              "{1, 5, 13, 17, 34, 52, 76}"
            ]
          },
          "metadata": {
            "tags": []
          },
          "execution_count": 24
        }
      ]
    },
    {
      "cell_type": "code",
      "metadata": {
        "colab": {
          "base_uri": "https://localhost:8080/"
        },
        "id": "SrjU5Nmp-t-U",
        "outputId": "91e5a91e-6a95-4c0a-a4fb-06db6c36d6c6"
      },
      "source": [
        "usuarios.add(765)\n",
        "usuarios"
      ],
      "execution_count": 25,
      "outputs": [
        {
          "output_type": "execute_result",
          "data": {
            "text/plain": [
              "{1, 5, 13, 17, 34, 52, 76, 765}"
            ]
          },
          "metadata": {
            "tags": []
          },
          "execution_count": 25
        }
      ]
    },
    {
      "cell_type": "code",
      "metadata": {
        "colab": {
          "base_uri": "https://localhost:8080/"
        },
        "id": "7-nvdaze-ul0",
        "outputId": "ca8e989a-fabd-4f19-bb01-f815e646d482"
      },
      "source": [
        "usuarios = frozenset(usuarios) # congela o conjunto, ou seja, não permite alterar o conjunto\n",
        "type(usuarios)"
      ],
      "execution_count": 28,
      "outputs": [
        {
          "output_type": "execute_result",
          "data": {
            "text/plain": [
              "frozenset"
            ]
          },
          "metadata": {
            "tags": []
          },
          "execution_count": 28
        }
      ]
    },
    {
      "cell_type": "code",
      "metadata": {
        "id": "gWJ8SuFb_dc7"
      },
      "source": [
        "meu_texto = \"Bem vindo, meu nome é thiago, eu gosto muito de cachorro e também gosto muito de estudar\""
      ],
      "execution_count": 29,
      "outputs": []
    },
    {
      "cell_type": "code",
      "metadata": {
        "colab": {
          "base_uri": "https://localhost:8080/"
        },
        "id": "DARbyKUb_dv7",
        "outputId": "df44f5bc-3c42-460d-8894-f23f6e6178d9"
      },
      "source": [
        "palavras = meu_texto.split(\" \")\n",
        "set(palavras)"
      ],
      "execution_count": 30,
      "outputs": [
        {
          "output_type": "execute_result",
          "data": {
            "text/plain": [
              "{'Bem',\n",
              " 'cachorro',\n",
              " 'de',\n",
              " 'e',\n",
              " 'estudar',\n",
              " 'eu',\n",
              " 'gosto',\n",
              " 'meu',\n",
              " 'muito',\n",
              " 'nome',\n",
              " 'também',\n",
              " 'thiago,',\n",
              " 'vindo,',\n",
              " 'é'}"
            ]
          },
          "metadata": {
            "tags": []
          },
          "execution_count": 30
        }
      ]
    },
    {
      "cell_type": "markdown",
      "metadata": {
        "id": "EV27K9Tl5W7b"
      },
      "source": [
        "# Aula 03"
      ]
    },
    {
      "cell_type": "code",
      "metadata": {
        "id": "MA288Zjo5ZCW"
      },
      "source": [
        ""
      ],
      "execution_count": null,
      "outputs": []
    },
    {
      "cell_type": "markdown",
      "metadata": {
        "id": "Rwbvt5LA5bfI"
      },
      "source": [
        "# Aula 04"
      ]
    },
    {
      "cell_type": "code",
      "metadata": {
        "id": "cb_49aKF5dM3"
      },
      "source": [
        ""
      ],
      "execution_count": null,
      "outputs": []
    },
    {
      "cell_type": "markdown",
      "metadata": {
        "id": "HXEt_8zQ5dw8"
      },
      "source": [
        "# Aula 05"
      ]
    },
    {
      "cell_type": "code",
      "metadata": {
        "id": "N7kfQ1tu5fnb"
      },
      "source": [
        ""
      ],
      "execution_count": null,
      "outputs": []
    }
  ]
}